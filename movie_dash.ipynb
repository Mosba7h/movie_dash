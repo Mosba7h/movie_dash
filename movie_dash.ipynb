{
 "cells": [
  {
   "cell_type": "code",
   "execution_count": 3,
   "metadata": {
    "colab": {
     "base_uri": "https://localhost:8080/"
    },
    "id": "GCNyo7-1yNMd",
    "outputId": "fcd73bb8-9997-435e-a99e-f9321e7a253a"
   },
   "outputs": [
    {
     "name": "stdout",
     "output_type": "stream",
     "text": [
      "Requirement already satisfied: dash in c:\\users\\mahmoud mosbah\\appdata\\local\\programs\\python\\python312\\lib\\site-packages (2.16.1)\n",
      "Requirement already satisfied: Flask<3.1,>=1.0.4 in c:\\users\\mahmoud mosbah\\appdata\\local\\programs\\python\\python312\\lib\\site-packages (from dash) (3.0.3)\n",
      "Requirement already satisfied: Werkzeug<3.1 in c:\\users\\mahmoud mosbah\\appdata\\local\\programs\\python\\python312\\lib\\site-packages (from dash) (3.0.2)\n",
      "Requirement already satisfied: plotly>=5.0.0 in c:\\users\\mahmoud mosbah\\appdata\\local\\programs\\python\\python312\\lib\\site-packages (from dash) (5.21.0)\n",
      "Requirement already satisfied: dash-html-components==2.0.0 in c:\\users\\mahmoud mosbah\\appdata\\local\\programs\\python\\python312\\lib\\site-packages (from dash) (2.0.0)\n",
      "Requirement already satisfied: dash-core-components==2.0.0 in c:\\users\\mahmoud mosbah\\appdata\\local\\programs\\python\\python312\\lib\\site-packages (from dash) (2.0.0)\n",
      "Requirement already satisfied: dash-table==5.0.0 in c:\\users\\mahmoud mosbah\\appdata\\local\\programs\\python\\python312\\lib\\site-packages (from dash) (5.0.0)\n",
      "Requirement already satisfied: importlib-metadata in c:\\users\\mahmoud mosbah\\appdata\\local\\programs\\python\\python312\\lib\\site-packages (from dash) (7.1.0)\n",
      "Requirement already satisfied: typing-extensions>=4.1.1 in c:\\users\\mahmoud mosbah\\appdata\\local\\programs\\python\\python312\\lib\\site-packages (from dash) (4.11.0)\n",
      "Requirement already satisfied: requests in c:\\users\\mahmoud mosbah\\appdata\\local\\programs\\python\\python312\\lib\\site-packages (from dash) (2.31.0)\n",
      "Requirement already satisfied: retrying in c:\\users\\mahmoud mosbah\\appdata\\local\\programs\\python\\python312\\lib\\site-packages (from dash) (1.3.4)\n",
      "Requirement already satisfied: nest-asyncio in c:\\users\\mahmoud mosbah\\appdata\\local\\programs\\python\\python312\\lib\\site-packages (from dash) (1.6.0)\n",
      "Requirement already satisfied: setuptools in c:\\users\\mahmoud mosbah\\appdata\\local\\programs\\python\\python312\\lib\\site-packages (from dash) (69.5.1)\n",
      "Requirement already satisfied: Jinja2>=3.1.2 in c:\\users\\mahmoud mosbah\\appdata\\local\\programs\\python\\python312\\lib\\site-packages (from Flask<3.1,>=1.0.4->dash) (3.1.3)\n",
      "Requirement already satisfied: itsdangerous>=2.1.2 in c:\\users\\mahmoud mosbah\\appdata\\local\\programs\\python\\python312\\lib\\site-packages (from Flask<3.1,>=1.0.4->dash) (2.2.0)\n",
      "Requirement already satisfied: click>=8.1.3 in c:\\users\\mahmoud mosbah\\appdata\\local\\programs\\python\\python312\\lib\\site-packages (from Flask<3.1,>=1.0.4->dash) (8.1.7)\n",
      "Requirement already satisfied: blinker>=1.6.2 in c:\\users\\mahmoud mosbah\\appdata\\local\\programs\\python\\python312\\lib\\site-packages (from Flask<3.1,>=1.0.4->dash) (1.7.0)\n",
      "Requirement already satisfied: tenacity>=6.2.0 in c:\\users\\mahmoud mosbah\\appdata\\local\\programs\\python\\python312\\lib\\site-packages (from plotly>=5.0.0->dash) (8.2.3)\n",
      "Requirement already satisfied: packaging in c:\\users\\mahmoud mosbah\\appdata\\local\\programs\\python\\python312\\lib\\site-packages (from plotly>=5.0.0->dash) (24.0)\n",
      "Requirement already satisfied: MarkupSafe>=2.1.1 in c:\\users\\mahmoud mosbah\\appdata\\local\\programs\\python\\python312\\lib\\site-packages (from Werkzeug<3.1->dash) (2.1.5)\n",
      "Requirement already satisfied: zipp>=0.5 in c:\\users\\mahmoud mosbah\\appdata\\local\\programs\\python\\python312\\lib\\site-packages (from importlib-metadata->dash) (3.18.1)\n",
      "Requirement already satisfied: charset-normalizer<4,>=2 in c:\\users\\mahmoud mosbah\\appdata\\local\\programs\\python\\python312\\lib\\site-packages (from requests->dash) (3.3.2)\n",
      "Requirement already satisfied: idna<4,>=2.5 in c:\\users\\mahmoud mosbah\\appdata\\local\\programs\\python\\python312\\lib\\site-packages (from requests->dash) (3.7)\n",
      "Requirement already satisfied: urllib3<3,>=1.21.1 in c:\\users\\mahmoud mosbah\\appdata\\local\\programs\\python\\python312\\lib\\site-packages (from requests->dash) (2.2.1)\n",
      "Requirement already satisfied: certifi>=2017.4.17 in c:\\users\\mahmoud mosbah\\appdata\\local\\programs\\python\\python312\\lib\\site-packages (from requests->dash) (2024.2.2)\n",
      "Requirement already satisfied: six>=1.7.0 in c:\\users\\mahmoud mosbah\\appdata\\local\\programs\\python\\python312\\lib\\site-packages (from retrying->dash) (1.16.0)\n",
      "Requirement already satisfied: colorama in c:\\users\\mahmoud mosbah\\appdata\\local\\programs\\python\\python312\\lib\\site-packages (from click>=8.1.3->Flask<3.1,>=1.0.4->dash) (0.4.6)\n"
     ]
    }
   ],
   "source": [
    "!pip install dash"
   ]
  },
  {
   "cell_type": "code",
   "execution_count": 2,
   "metadata": {
    "colab": {
     "base_uri": "https://localhost:8080/"
    },
    "id": "1cKBAd5tnS9z",
    "outputId": "397372ca-2836-464d-9a89-404b75d8c740"
   },
   "outputs": [
    {
     "name": "stdout",
     "output_type": "stream",
     "text": [
      "Requirement already satisfied: dash-bootstrap-components in c:\\users\\mahmoud mosbah\\appdata\\local\\programs\\python\\python312\\lib\\site-packages (1.6.0)\n",
      "Requirement already satisfied: dash>=2.0.0 in c:\\users\\mahmoud mosbah\\appdata\\local\\programs\\python\\python312\\lib\\site-packages (from dash-bootstrap-components) (2.16.1)\n",
      "Requirement already satisfied: Flask<3.1,>=1.0.4 in c:\\users\\mahmoud mosbah\\appdata\\local\\programs\\python\\python312\\lib\\site-packages (from dash>=2.0.0->dash-bootstrap-components) (3.0.3)\n",
      "Requirement already satisfied: Werkzeug<3.1 in c:\\users\\mahmoud mosbah\\appdata\\local\\programs\\python\\python312\\lib\\site-packages (from dash>=2.0.0->dash-bootstrap-components) (3.0.2)\n",
      "Requirement already satisfied: plotly>=5.0.0 in c:\\users\\mahmoud mosbah\\appdata\\local\\programs\\python\\python312\\lib\\site-packages (from dash>=2.0.0->dash-bootstrap-components) (5.21.0)\n",
      "Requirement already satisfied: dash-html-components==2.0.0 in c:\\users\\mahmoud mosbah\\appdata\\local\\programs\\python\\python312\\lib\\site-packages (from dash>=2.0.0->dash-bootstrap-components) (2.0.0)\n",
      "Requirement already satisfied: dash-core-components==2.0.0 in c:\\users\\mahmoud mosbah\\appdata\\local\\programs\\python\\python312\\lib\\site-packages (from dash>=2.0.0->dash-bootstrap-components) (2.0.0)\n",
      "Requirement already satisfied: dash-table==5.0.0 in c:\\users\\mahmoud mosbah\\appdata\\local\\programs\\python\\python312\\lib\\site-packages (from dash>=2.0.0->dash-bootstrap-components) (5.0.0)\n",
      "Requirement already satisfied: importlib-metadata in c:\\users\\mahmoud mosbah\\appdata\\local\\programs\\python\\python312\\lib\\site-packages (from dash>=2.0.0->dash-bootstrap-components) (7.1.0)\n",
      "Requirement already satisfied: typing-extensions>=4.1.1 in c:\\users\\mahmoud mosbah\\appdata\\local\\programs\\python\\python312\\lib\\site-packages (from dash>=2.0.0->dash-bootstrap-components) (4.11.0)\n",
      "Requirement already satisfied: requests in c:\\users\\mahmoud mosbah\\appdata\\local\\programs\\python\\python312\\lib\\site-packages (from dash>=2.0.0->dash-bootstrap-components) (2.31.0)\n",
      "Requirement already satisfied: retrying in c:\\users\\mahmoud mosbah\\appdata\\local\\programs\\python\\python312\\lib\\site-packages (from dash>=2.0.0->dash-bootstrap-components) (1.3.4)\n",
      "Requirement already satisfied: nest-asyncio in c:\\users\\mahmoud mosbah\\appdata\\local\\programs\\python\\python312\\lib\\site-packages (from dash>=2.0.0->dash-bootstrap-components) (1.6.0)\n",
      "Requirement already satisfied: setuptools in c:\\users\\mahmoud mosbah\\appdata\\local\\programs\\python\\python312\\lib\\site-packages (from dash>=2.0.0->dash-bootstrap-components) (69.5.1)\n",
      "Requirement already satisfied: Jinja2>=3.1.2 in c:\\users\\mahmoud mosbah\\appdata\\local\\programs\\python\\python312\\lib\\site-packages (from Flask<3.1,>=1.0.4->dash>=2.0.0->dash-bootstrap-components) (3.1.3)\n",
      "Requirement already satisfied: itsdangerous>=2.1.2 in c:\\users\\mahmoud mosbah\\appdata\\local\\programs\\python\\python312\\lib\\site-packages (from Flask<3.1,>=1.0.4->dash>=2.0.0->dash-bootstrap-components) (2.2.0)\n",
      "Requirement already satisfied: click>=8.1.3 in c:\\users\\mahmoud mosbah\\appdata\\local\\programs\\python\\python312\\lib\\site-packages (from Flask<3.1,>=1.0.4->dash>=2.0.0->dash-bootstrap-components) (8.1.7)\n",
      "Requirement already satisfied: blinker>=1.6.2 in c:\\users\\mahmoud mosbah\\appdata\\local\\programs\\python\\python312\\lib\\site-packages (from Flask<3.1,>=1.0.4->dash>=2.0.0->dash-bootstrap-components) (1.7.0)\n",
      "Requirement already satisfied: tenacity>=6.2.0 in c:\\users\\mahmoud mosbah\\appdata\\local\\programs\\python\\python312\\lib\\site-packages (from plotly>=5.0.0->dash>=2.0.0->dash-bootstrap-components) (8.2.3)\n",
      "Requirement already satisfied: packaging in c:\\users\\mahmoud mosbah\\appdata\\local\\programs\\python\\python312\\lib\\site-packages (from plotly>=5.0.0->dash>=2.0.0->dash-bootstrap-components) (24.0)\n",
      "Requirement already satisfied: MarkupSafe>=2.1.1 in c:\\users\\mahmoud mosbah\\appdata\\local\\programs\\python\\python312\\lib\\site-packages (from Werkzeug<3.1->dash>=2.0.0->dash-bootstrap-components) (2.1.5)\n",
      "Requirement already satisfied: zipp>=0.5 in c:\\users\\mahmoud mosbah\\appdata\\local\\programs\\python\\python312\\lib\\site-packages (from importlib-metadata->dash>=2.0.0->dash-bootstrap-components) (3.18.1)\n",
      "Requirement already satisfied: charset-normalizer<4,>=2 in c:\\users\\mahmoud mosbah\\appdata\\local\\programs\\python\\python312\\lib\\site-packages (from requests->dash>=2.0.0->dash-bootstrap-components) (3.3.2)\n",
      "Requirement already satisfied: idna<4,>=2.5 in c:\\users\\mahmoud mosbah\\appdata\\local\\programs\\python\\python312\\lib\\site-packages (from requests->dash>=2.0.0->dash-bootstrap-components) (3.7)\n",
      "Requirement already satisfied: urllib3<3,>=1.21.1 in c:\\users\\mahmoud mosbah\\appdata\\local\\programs\\python\\python312\\lib\\site-packages (from requests->dash>=2.0.0->dash-bootstrap-components) (2.2.1)\n",
      "Requirement already satisfied: certifi>=2017.4.17 in c:\\users\\mahmoud mosbah\\appdata\\local\\programs\\python\\python312\\lib\\site-packages (from requests->dash>=2.0.0->dash-bootstrap-components) (2024.2.2)\n",
      "Requirement already satisfied: six>=1.7.0 in c:\\users\\mahmoud mosbah\\appdata\\local\\programs\\python\\python312\\lib\\site-packages (from retrying->dash>=2.0.0->dash-bootstrap-components) (1.16.0)\n",
      "Requirement already satisfied: colorama in c:\\users\\mahmoud mosbah\\appdata\\local\\programs\\python\\python312\\lib\\site-packages (from click>=8.1.3->Flask<3.1,>=1.0.4->dash>=2.0.0->dash-bootstrap-components) (0.4.6)\n"
     ]
    }
   ],
   "source": [
    "!pip install dash-bootstrap-components"
   ]
  },
  {
   "cell_type": "code",
   "execution_count": 4,
   "metadata": {
    "id": "sRMOOUrqHTyg"
   },
   "outputs": [],
   "source": [
    "import dash\n",
    "from dash import html, dcc\n",
    "from dash.dependencies import Input, Output, State\n",
    "import dash_bootstrap_components as dbc\n",
    "import requests\n",
    "from bs4 import BeautifulSoup\n",
    "from flask import Flask, send_from_directory"
   ]
  },
  {
   "cell_type": "code",
   "execution_count": 4,
   "metadata": {
    "colab": {
     "base_uri": "https://localhost:8080/",
     "height": 671
    },
    "id": "jRETHWmAhoeO",
    "outputId": "9d66af39-71bf-48b8-f6f3-53656b66b21b"
   },
   "outputs": [
    {
     "data": {
      "text/html": [
       "\n",
       "        <iframe\n",
       "            width=\"100%\"\n",
       "            height=\"650\"\n",
       "            src=\"http://127.0.0.1:8051/\"\n",
       "            frameborder=\"0\"\n",
       "            allowfullscreen\n",
       "            \n",
       "        ></iframe>\n",
       "        "
      ],
      "text/plain": [
       "<IPython.lib.display.IFrame at 0x152625cf410>"
      ]
     },
     "metadata": {},
     "output_type": "display_data"
    }
   ],
   "source": [
    "# Import necessary libraries\n",
    "from flask import Flask\n",
    "import dash\n",
    "from dash import html, dcc, callback_context, Output, Input, State, MATCH, ALL\n",
    "from bs4 import BeautifulSoup\n",
    "import requests\n",
    "\n",
    "# Initialize the Flask server\n",
    "server = Flask(__name__)\n",
    "\n",
    "# Initialize the Dash app\n",
    "app = dash.Dash(__name__, server=server, suppress_callback_exceptions=True)\n",
    "\n",
    "# Function to scrape movie details\n",
    "def scrape_movie_details(movie_id):\n",
    "    url = f'https://www.themoviedb.org/movie/{movie_id}'\n",
    "    response = requests.get(url)\n",
    "    soup = BeautifulSoup(response.content, 'html.parser')\n",
    "\n",
    "    title_element = soup.find('h2', class_='title')\n",
    "    title = title_element.text.strip() if title_element else \"N/A\"\n",
    "\n",
    "    release_date_element = soup.find('span', class_='release_date')\n",
    "    release_date = release_date_element.text.strip() if release_date_element else \"N/A\"\n",
    "\n",
    "    overview_element = soup.find('div', class_='overview')\n",
    "    overview = overview_element.text.strip() if overview_element else \"N/A\"\n",
    "\n",
    "    poster_element = soup.find('img', class_='poster')\n",
    "    poster_path = poster_element['src'] if poster_element and 'src' in poster_element.attrs else \"N/A\"\n",
    "\n",
    "    return {'title': title, 'release_date': release_date, 'overview': overview, 'poster_path': poster_path}\n",
    "\n",
    "# Example movie IDs\n",
    "movie_ids = [550, 155, 13, 500, 272]\n",
    "\n",
    "# Fetch movie details for all movie IDs\n",
    "movie_data = [scrape_movie_details(movie_id) for movie_id in movie_ids]\n",
    "\n",
    "# Define the layout for the home page\n",
    "home_layout = html.Div(\n",
    "    style={\n",
    "        'backgroundImage': 'url(\"/assets/home_background.jpg\")', # Path to home background image\n",
    "        'backgroundSize': 'cover',\n",
    "        'height': '100vh',\n",
    "        'display': 'flex',\n",
    "        'flexDirection': 'column',\n",
    "        'justifyContent': 'center',\n",
    "        'alignItems': 'center'\n",
    "    },\n",
    "    children=[\n",
    "        html.H1(\"Welcome to BEST_MOVIE app\", style={'color': 'white', 'textAlign': 'center'}),\n",
    "        html.Div([\n",
    "            dcc.Link(html.Button(\"User Page\"), href='/user'),\n",
    "            dcc.Link(html.Button(\"Movie Page\"), href='/movie')\n",
    "        ], style={'marginTop': '20px'}),\n",
    "        html.Div(\n",
    "            style={\n",
    "                'display': 'flex',\n",
    "                'overflowX': 'scroll',\n",
    "                'marginTop': '50px',\n",
    "                'width': '80%'\n",
    "            },\n",
    "            children=[\n",
    "                html.Img(src=movie['poster_path'], style={'width': '200px', 'height': '300px', 'marginRight': '10px'})\n",
    "                for movie in movie_data\n",
    "            ]\n",
    "        )\n",
    "    ]\n",
    ")\n",
    "\n",
    "# Define the layout for the user page\n",
    "user_layout = html.Div(\n",
    "    style={\n",
    "        'backgroundImage': 'url(\"/assets/user_background.jpg\")', # Path to user background image\n",
    "        'backgroundSize': 'cover',\n",
    "        'height': '100vh',\n",
    "        'display': 'flex',\n",
    "        'flexDirection': 'column',\n",
    "        'justifyContent': 'center',\n",
    "        'alignItems': 'center'\n",
    "    },\n",
    "    children=[\n",
    "        dcc.Input(id='user-id-input', type='text', placeholder='Enter your ID'),\n",
    "        html.Button('Enter', id='user-id-button'),\n",
    "        dcc.Link(html.Button('Back'), href='/')\n",
    "    ]\n",
    ")\n",
    "\n",
    "# Define the layout for the movie page\n",
    "movie_layout = html.Div(\n",
    "    style={\n",
    "        'backgroundImage': 'url(\"/assets/user_background.jpg\")', # Path to movie background image (using the same as user page for now)\n",
    "        'backgroundSize': 'cover',\n",
    "        'height': '100vh',\n",
    "        'display': 'flex',\n",
    "        'flexDirection': 'column',\n",
    "        'justifyContent': 'center',\n",
    "        'alignItems': 'center'\n",
    "    },\n",
    "    children=[\n",
    "        dcc.Input(id='movie-id-input', type='text', placeholder='Enter movie ID'),\n",
    "        html.Button('Enter', id='movie-id-button'),\n",
    "        dcc.Link(html.Button('Back'), href='/')\n",
    "    ]\n",
    ")\n",
    "\n",
    "# Define the callback to handle page navigation\n",
    "@app.callback(\n",
    "    Output('page-content', 'children'),\n",
    "    [Input('url', 'pathname')]\n",
    ")\n",
    "def display_page(pathname):\n",
    "    if pathname == '/user':\n",
    "        return user_layout\n",
    "    elif pathname == '/movie':\n",
    "        return movie_layout\n",
    "    else:\n",
    "        return home_layout\n",
    "\n",
    "# Define the layout with a URL router\n",
    "app.layout = html.Div([\n",
    "    dcc.Location(id='url', refresh=False),\n",
    "    html.Div(id='page-content')\n",
    "])\n",
    "\n",
    "# Run the Dash app on a different port\n",
    "if __name__ == '__main__':\n",
    "    app.run_server(debug=True)  # Change the port \n",
    "\n"
   ]
  },
  {
   "cell_type": "code",
   "execution_count": null,
   "metadata": {
    "id": "P_oVMbJbkQPu"
   },
   "outputs": [],
   "source": []
  }
 ],
 "metadata": {
  "colab": {
   "provenance": []
  },
  "kernelspec": {
   "display_name": "Python 3 (ipykernel)",
   "language": "python",
   "name": "python3"
  },
  "language_info": {
   "codemirror_mode": {
    "name": "ipython",
    "version": 3
   },
   "file_extension": ".py",
   "mimetype": "text/x-python",
   "name": "python",
   "nbconvert_exporter": "python",
   "pygments_lexer": "ipython3",
   "version": "3.12.3"
  }
 },
 "nbformat": 4,
 "nbformat_minor": 4
}
